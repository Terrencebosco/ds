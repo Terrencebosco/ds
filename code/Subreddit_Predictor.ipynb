{
  "nbformat": 4,
  "nbformat_minor": 0,
  "metadata": {
    "colab": {
      "name": "Subreddit_Predictor.ipynb",
      "provenance": [],
      "machine_shape": "hm"
    },
    "kernelspec": {
      "name": "python3",
      "display_name": "Python 3"
    },
    "accelerator": "TPU"
  },
  "cells": [
    {
      "cell_type": "code",
      "metadata": {
        "id": "BDUb3MmBWjsH",
        "outputId": "58346d23-76b3-45a5-e63e-c915c63da963",
        "colab": {
          "base_uri": "https://localhost:8080/",
          "height": 51
        }
      },
      "source": [
        "import pandas as pd\n",
        "import numpy as np\n",
        "import pickle\n",
        "\n",
        "from tqdm import tqdm\n",
        "\n",
        "import matplotlib.pyplot as plt\n",
        "\n",
        "from sklearn.model_selection import train_test_split\n",
        "from sklearn.preprocessing import LabelEncoder\n",
        "\n",
        "import os\n",
        "\n",
        "from collections import OrderedDict\n",
        "\n",
        "import json\n",
        "import pprint\n",
        "\n",
        "import tensorflow as tf\n",
        "from tensorflow.keras.preprocessing.text import Tokenizer\n",
        "from tensorflow.keras.preprocessing import sequence\n",
        "from tensorflow.keras.models import Sequential\n",
        "from tensorflow.keras.layers import Dense, Embedding, GlobalMaxPooling1D, Dropout\n",
        "from tensorflow.keras.layers import LSTM, SpatialDropout1D, GlobalMaxPooling2D\n",
        "from tensorflow.keras.regularizers import l1, l2, l1_l2\n",
        "import tensorflow_hub as hub\n",
        "from tensorflow.keras.callbacks import EarlyStopping, TensorBoard\n",
        "%load_ext tensorboard"
      ],
      "execution_count": 596,
      "outputs": [
        {
          "output_type": "stream",
          "text": [
            "The tensorboard extension is already loaded. To reload it, use:\n",
            "  %reload_ext tensorboard\n"
          ],
          "name": "stdout"
        }
      ]
    },
    {
      "cell_type": "code",
      "metadata": {
        "id": "h-cTYL7kFMv7"
      },
      "source": [
        "plt.style.use('ggplot')\n",
        "\n",
        "def plot_history(history):\n",
        "    acc = history.history['sparse_categorical_accuracy']\n",
        "    val_acc = history.history['val_sparse_categorical_accuracy']\n",
        "    loss = history.history['loss']\n",
        "    val_loss = history.history['val_loss']\n",
        "    x = range(1, len(acc) + 1)\n",
        "\n",
        "    plt.figure(figsize=(12, 5))\n",
        "    plt.subplot(1, 2, 1)\n",
        "    plt.plot(x, acc, 'b', label='Training Acc')\n",
        "    plt.plot(x, val_acc, 'r', label='Validation Acc')\n",
        "    plt.title('Training and Validation Accuracy')\n",
        "    plt.legend()\n",
        "    plt.subplot(1, 2, 2)\n",
        "    plt.plot(x, loss, 'b', label='Training Loss')\n",
        "    plt.plot(x, val_loss, 'r', label='Validation Loss')\n",
        "    plt.title('Training and Validation Loss')\n",
        "    plt.legend()"
      ],
      "execution_count": 2,
      "outputs": []
    },
    {
      "cell_type": "code",
      "metadata": {
        "id": "huhaaEEWfTdq"
      },
      "source": [
        "subreddit_info = pd.read_csv('subreddit_info.csv')"
      ],
      "execution_count": 3,
      "outputs": []
    },
    {
      "cell_type": "code",
      "metadata": {
        "id": "CbfzMaFBbv1X",
        "outputId": "2d8d7964-6751-41ca-a354-529f4dfdb60e",
        "colab": {
          "base_uri": "https://localhost:8080/",
          "height": 306
        }
      },
      "source": [
        "subreddit_info = subreddit_info[subreddit_info['in_data'] == True]\n",
        "subreddit_info = subreddit_info.drop(columns=['category_3', 'in_data',\n",
        "                                              'reason_for_exclusion'], axis=1)\n",
        "subreddit_info = subreddit_info.reset_index(drop=True)\n",
        "print(subreddit_info.isnull().sum(), end='\\n\\n')\n",
        "print(subreddit_info.shape)\n",
        "subreddit_info.head()"
      ],
      "execution_count": 4,
      "outputs": [
        {
          "output_type": "stream",
          "text": [
            "subreddit     0\n",
            "category_1    0\n",
            "category_2    0\n",
            "dtype: int64\n",
            "\n",
            "(1013, 3)\n"
          ],
          "name": "stdout"
        },
        {
          "output_type": "execute_result",
          "data": {
            "text/html": [
              "<div>\n",
              "<style scoped>\n",
              "    .dataframe tbody tr th:only-of-type {\n",
              "        vertical-align: middle;\n",
              "    }\n",
              "\n",
              "    .dataframe tbody tr th {\n",
              "        vertical-align: top;\n",
              "    }\n",
              "\n",
              "    .dataframe thead th {\n",
              "        text-align: right;\n",
              "    }\n",
              "</style>\n",
              "<table border=\"1\" class=\"dataframe\">\n",
              "  <thead>\n",
              "    <tr style=\"text-align: right;\">\n",
              "      <th></th>\n",
              "      <th>subreddit</th>\n",
              "      <th>category_1</th>\n",
              "      <th>category_2</th>\n",
              "    </tr>\n",
              "  </thead>\n",
              "  <tbody>\n",
              "    <tr>\n",
              "      <th>0</th>\n",
              "      <td>whatsthatbook</td>\n",
              "      <td>advice/question</td>\n",
              "      <td>book</td>\n",
              "    </tr>\n",
              "    <tr>\n",
              "      <th>1</th>\n",
              "      <td>theydidthemath</td>\n",
              "      <td>advice/question</td>\n",
              "      <td>calculations</td>\n",
              "    </tr>\n",
              "    <tr>\n",
              "      <th>2</th>\n",
              "      <td>datarecovery</td>\n",
              "      <td>advice/question</td>\n",
              "      <td>data recovery</td>\n",
              "    </tr>\n",
              "    <tr>\n",
              "      <th>3</th>\n",
              "      <td>declutter</td>\n",
              "      <td>advice/question</td>\n",
              "      <td>declutter</td>\n",
              "    </tr>\n",
              "    <tr>\n",
              "      <th>4</th>\n",
              "      <td>productivity</td>\n",
              "      <td>advice/question</td>\n",
              "      <td>discipline</td>\n",
              "    </tr>\n",
              "  </tbody>\n",
              "</table>\n",
              "</div>"
            ],
            "text/plain": [
              "        subreddit       category_1     category_2\n",
              "0   whatsthatbook  advice/question           book\n",
              "1  theydidthemath  advice/question   calculations\n",
              "2    datarecovery  advice/question  data recovery\n",
              "3       declutter  advice/question      declutter\n",
              "4    productivity  advice/question     discipline"
            ]
          },
          "metadata": {
            "tags": []
          },
          "execution_count": 4
        }
      ]
    },
    {
      "cell_type": "code",
      "metadata": {
        "id": "q4e34FZRcjQy"
      },
      "source": [
        "data = pd.read_csv('rspct.tsv', sep='\\t')"
      ],
      "execution_count": 5,
      "outputs": []
    },
    {
      "cell_type": "code",
      "metadata": {
        "id": "clGN_FDgeXJS",
        "outputId": "7965042e-cb28-45fc-99a6-96d62ddcc54b",
        "colab": {
          "base_uri": "https://localhost:8080/",
          "height": 323
        }
      },
      "source": [
        "print(data.isnull().sum(), end='\\n\\n')\n",
        "print(data.shape)\n",
        "data.head()"
      ],
      "execution_count": 6,
      "outputs": [
        {
          "output_type": "stream",
          "text": [
            "id           0\n",
            "subreddit    0\n",
            "title        0\n",
            "selftext     0\n",
            "dtype: int64\n",
            "\n",
            "(1013000, 4)\n"
          ],
          "name": "stdout"
        },
        {
          "output_type": "execute_result",
          "data": {
            "text/html": [
              "<div>\n",
              "<style scoped>\n",
              "    .dataframe tbody tr th:only-of-type {\n",
              "        vertical-align: middle;\n",
              "    }\n",
              "\n",
              "    .dataframe tbody tr th {\n",
              "        vertical-align: top;\n",
              "    }\n",
              "\n",
              "    .dataframe thead th {\n",
              "        text-align: right;\n",
              "    }\n",
              "</style>\n",
              "<table border=\"1\" class=\"dataframe\">\n",
              "  <thead>\n",
              "    <tr style=\"text-align: right;\">\n",
              "      <th></th>\n",
              "      <th>id</th>\n",
              "      <th>subreddit</th>\n",
              "      <th>title</th>\n",
              "      <th>selftext</th>\n",
              "    </tr>\n",
              "  </thead>\n",
              "  <tbody>\n",
              "    <tr>\n",
              "      <th>0</th>\n",
              "      <td>6d8knd</td>\n",
              "      <td>talesfromtechsupport</td>\n",
              "      <td>Remember your command line switches...</td>\n",
              "      <td>Hi there,  &lt;lb&gt;The usual. Long time lerker, fi...</td>\n",
              "    </tr>\n",
              "    <tr>\n",
              "      <th>1</th>\n",
              "      <td>58mbft</td>\n",
              "      <td>teenmom</td>\n",
              "      <td>So what was Matt \"addicted\" to?</td>\n",
              "      <td>Did he ever say what his addiction was or is h...</td>\n",
              "    </tr>\n",
              "    <tr>\n",
              "      <th>2</th>\n",
              "      <td>8f73s7</td>\n",
              "      <td>Harley</td>\n",
              "      <td>No Club Colors</td>\n",
              "      <td>Funny story. I went to college in Las Vegas. T...</td>\n",
              "    </tr>\n",
              "    <tr>\n",
              "      <th>3</th>\n",
              "      <td>6ti6re</td>\n",
              "      <td>ringdoorbell</td>\n",
              "      <td>Not door bell, but floodlight mount height.</td>\n",
              "      <td>I know this is a sub for the 'Ring Doorbell' b...</td>\n",
              "    </tr>\n",
              "    <tr>\n",
              "      <th>4</th>\n",
              "      <td>77sxto</td>\n",
              "      <td>intel</td>\n",
              "      <td>Worried about my 8700k small fft/data stress r...</td>\n",
              "      <td>Prime95 (regardless of version) and OCCT both,...</td>\n",
              "    </tr>\n",
              "  </tbody>\n",
              "</table>\n",
              "</div>"
            ],
            "text/plain": [
              "       id  ...                                           selftext\n",
              "0  6d8knd  ...  Hi there,  <lb>The usual. Long time lerker, fi...\n",
              "1  58mbft  ...  Did he ever say what his addiction was or is h...\n",
              "2  8f73s7  ...  Funny story. I went to college in Las Vegas. T...\n",
              "3  6ti6re  ...  I know this is a sub for the 'Ring Doorbell' b...\n",
              "4  77sxto  ...  Prime95 (regardless of version) and OCCT both,...\n",
              "\n",
              "[5 rows x 4 columns]"
            ]
          },
          "metadata": {
            "tags": []
          },
          "execution_count": 6
        }
      ]
    },
    {
      "cell_type": "code",
      "metadata": {
        "id": "vYFw2rYapZXJ"
      },
      "source": [
        "data.to_csv('data.csv', index=False)"
      ],
      "execution_count": 620,
      "outputs": []
    },
    {
      "cell_type": "code",
      "metadata": {
        "id": "XZsBPg-eqUm6"
      },
      "source": [
        "subreddit_info.to_csv('subreddit_info_cleaned.csv', index=False)"
      ],
      "execution_count": 621,
      "outputs": []
    },
    {
      "cell_type": "code",
      "metadata": {
        "id": "NPKxPRjqg3EL",
        "outputId": "fa1a82a5-b585-4f23-8885-fb2dd9a3a618",
        "colab": {
          "base_uri": "https://localhost:8080/",
          "height": 85
        }
      },
      "source": [
        "X = data['selftext']\n",
        "y = data['subreddit']\n",
        "\n",
        "X_train, X_test, y_train, y_test = train_test_split(\n",
        "    X, y, test_size=0.30, random_state=42)\n",
        "\n",
        "print(X_train.shape)\n",
        "print(y_train.shape)\n",
        "print(X_test.shape)\n",
        "print(y_test.shape)"
      ],
      "execution_count": 485,
      "outputs": [
        {
          "output_type": "stream",
          "text": [
            "(709100,)\n",
            "(709100,)\n",
            "(303900,)\n",
            "(303900,)\n"
          ],
          "name": "stdout"
        }
      ]
    },
    {
      "cell_type": "code",
      "metadata": {
        "id": "BoaPv66vhYJD",
        "outputId": "e3953bf8-88de-40b1-b228-98486e012376",
        "colab": {
          "base_uri": "https://localhost:8080/",
          "height": 51
        }
      },
      "source": [
        "encoder = LabelEncoder()\n",
        "y_train = encoder.fit_transform(y_train)\n",
        "y_test = encoder.transform(y_test)\n",
        "print('Classes:', len(encoder.classes_))\n",
        "label_map = encoder.inverse_transform(y_train)\n",
        "print(\"Reverse Class Mapping Ex. (Subreddit='everquest'):\", label_map[4])"
      ],
      "execution_count": 486,
      "outputs": [
        {
          "output_type": "stream",
          "text": [
            "Classes: 1013\n",
            "Reverse Class Mapping Ex. (Subreddit='everquest'): everquest\n"
          ],
          "name": "stdout"
        }
      ]
    },
    {
      "cell_type": "code",
      "metadata": {
        "id": "sZG_DSUvot2k"
      },
      "source": [
        "tokenizer = Tokenizer(num_words=50000, oov_token='<00V>')\n",
        "tokenizer.fit_on_texts(X_train)\n",
        "\n",
        "X_train = tokenizer.texts_to_sequences(X_train)\n",
        "X_test = tokenizer.texts_to_sequences(X_test)"
      ],
      "execution_count": 9,
      "outputs": []
    },
    {
      "cell_type": "code",
      "metadata": {
        "id": "N-aP1hcnpX5k"
      },
      "source": [
        "maxlen = 250\n",
        "\n",
        "X_train = sequence.pad_sequences(X_train, maxlen=maxlen)\n",
        "X_test = sequence.pad_sequences(X_test, maxlen=maxlen)"
      ],
      "execution_count": 10,
      "outputs": []
    },
    {
      "cell_type": "code",
      "metadata": {
        "id": "PC60rSnipcpO",
        "outputId": "33f2fe66-5924-4ad3-eeb0-97dccb6f2e47",
        "colab": {
          "base_uri": "https://localhost:8080/",
          "height": 34
        }
      },
      "source": [
        "vocab_size = tokenizer.num_words + 1  # add 1 because of reserved 0 index\n",
        "print(vocab_size)\n",
        "embedding_dim = 128"
      ],
      "execution_count": 11,
      "outputs": [
        {
          "output_type": "stream",
          "text": [
            "50001\n"
          ],
          "name": "stdout"
        }
      ]
    },
    {
      "cell_type": "code",
      "metadata": {
        "id": "lcHhi4DPpe8t",
        "outputId": "97cccbc3-a7a8-4fcf-c71c-ec3b013555e8",
        "colab": {
          "base_uri": "https://localhost:8080/",
          "height": 85
        }
      },
      "source": [
        "print(X_train.shape)\n",
        "print(y_train.shape)\n",
        "print(X_test.shape)\n",
        "print(y_test.shape)"
      ],
      "execution_count": 12,
      "outputs": [
        {
          "output_type": "stream",
          "text": [
            "(709100, 250)\n",
            "(709100,)\n",
            "(303900, 250)\n",
            "(303900,)\n"
          ],
          "name": "stdout"
        }
      ]
    },
    {
      "cell_type": "code",
      "metadata": {
        "id": "V2AGMFCXF_wI",
        "outputId": "42661b3c-341c-4a84-a6ed-ddc707abfa78",
        "colab": {
          "base_uri": "https://localhost:8080/",
          "height": 323
        }
      },
      "source": [
        "logdir = os.path.join('logs', 'early-stopping')\n",
        "tensorboard_callback = TensorBoard(logdir, histogram_freq=1)\n",
        "stop = EarlyStopping(monitor='val_sparse_categorical_accuracy', min_delta=0.01, patience=2)\n",
        "\n",
        "model = Sequential()\n",
        "model.add(Embedding(input_dim=vocab_size, \n",
        "                    output_dim=embedding_dim, \n",
        "                    input_length=maxlen,\n",
        "                    trainable=True))\n",
        "model.add(SpatialDropout1D(0.2))\n",
        "model.add(GlobalMaxPooling1D())\n",
        "model.add(Dropout(0.2))\n",
        "model.add(Dense(1013, activation='softmax'))\n",
        "model.compile(loss='sparse_categorical_crossentropy',\n",
        "              optimizer='adam', \n",
        "              metrics=['sparse_categorical_accuracy'])\n",
        "\n",
        "model.summary()"
      ],
      "execution_count": 13,
      "outputs": [
        {
          "output_type": "stream",
          "text": [
            "Model: \"sequential\"\n",
            "_________________________________________________________________\n",
            "Layer (type)                 Output Shape              Param #   \n",
            "=================================================================\n",
            "embedding (Embedding)        (None, 250, 128)          6400128   \n",
            "_________________________________________________________________\n",
            "spatial_dropout1d (SpatialDr (None, 250, 128)          0         \n",
            "_________________________________________________________________\n",
            "global_max_pooling1d (Global (None, 128)               0         \n",
            "_________________________________________________________________\n",
            "dropout (Dropout)            (None, 128)               0         \n",
            "_________________________________________________________________\n",
            "dense (Dense)                (None, 1013)              130677    \n",
            "=================================================================\n",
            "Total params: 6,530,805\n",
            "Trainable params: 6,530,805\n",
            "Non-trainable params: 0\n",
            "_________________________________________________________________\n"
          ],
          "name": "stdout"
        }
      ]
    },
    {
      "cell_type": "code",
      "metadata": {
        "id": "6pEfEHKoqa-c",
        "outputId": "38c6658b-4cda-4d1e-e106-a9f833e2dac1",
        "colab": {
          "base_uri": "https://localhost:8080/",
          "height": 394
        }
      },
      "source": [
        "history = model.fit(X_train, y_train,\n",
        "                    epochs=10,\n",
        "                    verbose=True,\n",
        "                    validation_data=(X_test, y_test),\n",
        "                    callbacks=[tensorboard_callback, stop],\n",
        "                    batch_size=128)\n",
        "\n",
        "loss, accuracy = model.evaluate(X_train, y_train, verbose=False)\n",
        "print(\"Training Accuracy: {:.4f}\".format(accuracy))\n",
        "loss, accuracy = model.evaluate(X_test, y_test, verbose=False)\n",
        "print(\"Testing Accuracy:  {:.4f}\".format(accuracy))"
      ],
      "execution_count": 14,
      "outputs": [
        {
          "output_type": "stream",
          "text": [
            "Epoch 1/10\n",
            "   1/5540 [..............................] - ETA: 0s - loss: 6.9235 - sparse_categorical_accuracy: 0.0000e+00WARNING:tensorflow:From /usr/local/lib/python3.6/dist-packages/tensorflow/python/ops/summary_ops_v2.py:1277: stop (from tensorflow.python.eager.profiler) is deprecated and will be removed after 2020-07-01.\n",
            "Instructions for updating:\n",
            "use `tf.profiler.experimental.stop` instead.\n",
            "5540/5540 [==============================] - 264s 48ms/step - loss: 4.7790 - sparse_categorical_accuracy: 0.2762 - val_loss: 2.7020 - val_sparse_categorical_accuracy: 0.5464\n",
            "Epoch 2/10\n",
            "5540/5540 [==============================] - 267s 48ms/step - loss: 2.6098 - sparse_categorical_accuracy: 0.5304 - val_loss: 2.0118 - val_sparse_categorical_accuracy: 0.6292\n",
            "Epoch 3/10\n",
            "5540/5540 [==============================] - 270s 49ms/step - loss: 2.1409 - sparse_categorical_accuracy: 0.5958 - val_loss: 1.7793 - val_sparse_categorical_accuracy: 0.6604\n",
            "Epoch 4/10\n",
            "5540/5540 [==============================] - 268s 48ms/step - loss: 1.9031 - sparse_categorical_accuracy: 0.6310 - val_loss: 1.6719 - val_sparse_categorical_accuracy: 0.6746\n",
            "Epoch 5/10\n",
            "5540/5540 [==============================] - 268s 48ms/step - loss: 1.7481 - sparse_categorical_accuracy: 0.6544 - val_loss: 1.6091 - val_sparse_categorical_accuracy: 0.6836\n",
            "Epoch 6/10\n",
            "5540/5540 [==============================] - 270s 49ms/step - loss: 1.6366 - sparse_categorical_accuracy: 0.6714 - val_loss: 1.5761 - val_sparse_categorical_accuracy: 0.6872\n",
            "Epoch 7/10\n",
            "5540/5540 [==============================] - 267s 48ms/step - loss: 1.5459 - sparse_categorical_accuracy: 0.6854 - val_loss: 1.5580 - val_sparse_categorical_accuracy: 0.6899\n",
            "Epoch 8/10\n",
            "5540/5540 [==============================] - 268s 48ms/step - loss: 1.4747 - sparse_categorical_accuracy: 0.6970 - val_loss: 1.5488 - val_sparse_categorical_accuracy: 0.6914\n",
            "Training Accuracy: 0.8005\n",
            "Testing Accuracy:  0.6914\n"
          ],
          "name": "stdout"
        }
      ]
    },
    {
      "cell_type": "code",
      "metadata": {
        "id": "Z6LYKBcdFQXp",
        "outputId": "67c76eed-6a10-42f3-ce9c-01cde2d0c03b",
        "colab": {
          "base_uri": "https://localhost:8080/",
          "height": 337
        }
      },
      "source": [
        "plot_history(history)"
      ],
      "execution_count": 15,
      "outputs": [
        {
          "output_type": "display_data",
          "data": {
            "image/png": "[encoded data removed]",
            "text/plain": [
              "<Figure size 864x360 with 2 Axes>"
            ]
          },
          "metadata": {
            "tags": []
          }
        }
      ]
    },
    {
      "cell_type": "code",
      "metadata": {
        "id": "wvYeLf_iFTGW"
      },
      "source": [
        "# Save model\n",
        "model.save('keras_pred_subreddit_model_v5.h5')"
      ],
      "execution_count": 16,
      "outputs": []
    },
    {
      "cell_type": "code",
      "metadata": {
        "id": "_ultAUmUn9rs"
      },
      "source": [
        "# Save tokenizer\n",
        "with open('keras_tokenizer_v5.pickle', 'wb') as handle:\n",
        "    pickle.dump(tokenizer, handle, protocol=pickle.HIGHEST_PROTOCOL)"
      ],
      "execution_count": 17,
      "outputs": []
    },
    {
      "cell_type": "code",
      "metadata": {
        "id": "lvrMmPGFoLB4"
      },
      "source": [
        "# Save label encoder\n",
        "with open('sklearn_label_encoder_v5.pickle', 'wb') as handle:\n",
        "    pickle.dump(encoder, handle, protocol=pickle.HIGHEST_PROTOCOL)"
      ],
      "execution_count": 613,
      "outputs": []
    },
    {
      "cell_type": "markdown",
      "metadata": {
        "id": "7B3KJkLwoXEp"
      },
      "source": [
        "# **New Data Testing**"
      ]
    },
    {
      "cell_type": "code",
      "metadata": {
        "id": "lXj7s5O_oaep",
        "outputId": "4d608d18-2d78-4f54-b045-12e3e17d73f7",
        "colab": {
          "base_uri": "https://localhost:8080/",
          "height": 323
        }
      },
      "source": [
        "# Load saved model\n",
        "restored_model = tf.keras.models.load_model('keras_pred_subreddit_model_v5.h5')\n",
        "restored_model.summary()"
      ],
      "execution_count": 19,
      "outputs": [
        {
          "output_type": "stream",
          "text": [
            "Model: \"sequential\"\n",
            "_________________________________________________________________\n",
            "Layer (type)                 Output Shape              Param #   \n",
            "=================================================================\n",
            "embedding (Embedding)        (None, 250, 128)          6400128   \n",
            "_________________________________________________________________\n",
            "spatial_dropout1d (SpatialDr (None, 250, 128)          0         \n",
            "_________________________________________________________________\n",
            "global_max_pooling1d (Global (None, 128)               0         \n",
            "_________________________________________________________________\n",
            "dropout (Dropout)            (None, 128)               0         \n",
            "_________________________________________________________________\n",
            "dense (Dense)                (None, 1013)              130677    \n",
            "=================================================================\n",
            "Total params: 6,530,805\n",
            "Trainable params: 6,530,805\n",
            "Non-trainable params: 0\n",
            "_________________________________________________________________\n"
          ],
          "name": "stdout"
        }
      ]
    },
    {
      "cell_type": "code",
      "metadata": {
        "id": "zMUNK79_oelR",
        "outputId": "a13bfd3a-2a02-454f-b30d-d9ed11b89f6a",
        "colab": {
          "base_uri": "https://localhost:8080/",
          "height": 51
        }
      },
      "source": [
        "loss, acc = restored_model.evaluate(X_test,  y_test, verbose=2)\n",
        "print('Model Accuracy: {:5.2f}%'.format(100*acc))"
      ],
      "execution_count": 20,
      "outputs": [
        {
          "output_type": "stream",
          "text": [
            "9497/9497 - 33s - loss: 1.5488 - sparse_categorical_accuracy: 0.6914\n",
            "Model Accuracy: 69.14%\n"
          ],
          "name": "stdout"
        }
      ]
    },
    {
      "cell_type": "code",
      "metadata": {
        "id": "ld49DPNpsrmx"
      },
      "source": [
        "with open('keras_tokenizer_v5.pickle', 'rb') as handle:\n",
        "    tokenizer = pickle.load(handle)"
      ],
      "execution_count": 21,
      "outputs": []
    },
    {
      "cell_type": "code",
      "metadata": {
        "id": "geziij-vojcp"
      },
      "source": [
        "with open('sklearn_label_encoder_v5.pickle', 'rb') as handle:\n",
        "    encoder = pickle.load(handle)"
      ],
      "execution_count": 614,
      "outputs": []
    },
    {
      "cell_type": "code",
      "metadata": {
        "id": "V4TU2U-Nrtpn"
      },
      "source": [
        "test_post_1 = '''My cat likes to zone out when I am holding her head in my palm. \n",
        "She fell asleep on my chest while I was writing my term paper and I had to take \n",
        "a break to support her coconut head properly as she was about to slide down on \n",
        "my lap. The break was extended to 20 more minutes lol'''"
      ],
      "execution_count": 615,
      "outputs": []
    },
    {
      "cell_type": "code",
      "metadata": {
        "id": "YZZw5-VRkfVC"
      },
      "source": [
        "test_post_2 = '''Was in Vegas this weekend and hit up Speed Vegas. My plan \n",
        "originally was to drive the C8 but this time I could afford the Ferrari so I \n",
        "went with that and I don't regret my decision at all. Driving a Ferrari was a \n",
        "childhood dream come true and its something I'll never forget as long as I live.\n",
        "The car was super easy to drive and get used to. After the first lap I felt right \n",
        "at home with how it drove. Hitting those turns at 55-60mph without having to \n",
        "brake or put the gas was amazing. This car handled those turns like a champ and \n",
        "I was shocked at how good it was at taking those turns. On the straight-away I \n",
        "hit 142mph and it got up to that speed super quick. The sound of the engine right \n",
        "behind your head screaming as your floor it is something that you gotta hear.'''"
      ],
      "execution_count": 616,
      "outputs": []
    },
    {
      "cell_type": "code",
      "metadata": {
        "id": "Yg8cRDvvSMPW"
      },
      "source": [
        "def predict_on_new(input, tokenizer=tokenizer, restored_model=restored_model, \n",
        "                   maxlen=maxlen, encoder=encoder):\n",
        "  seq = tokenizer.texts_to_sequences([input])\n",
        "  pad_seq = sequence.pad_sequences(seq, maxlen=maxlen)\n",
        "  pred = restored_model.predict(pad_seq)\n",
        "  class_names = list(encoder.inverse_transform(pred[0].argsort()[-5:][::-1]))\n",
        "\n",
        "  t1_category = []\n",
        "  t2_category = []\n",
        "\n",
        "  pred_key = ['pred_1', 'pred_2', 'pred_3', 'pred_4', 'pred_5']\n",
        "\n",
        "  for c in class_names:\n",
        "    for i, sub_red in enumerate(subreddit_info['subreddit']):\n",
        "      if sub_red == c:\n",
        "        t1_cat = subreddit_info['category_1'].iloc[i]\n",
        "        t1_category.append(t1_cat)\n",
        "        t2_cat = subreddit_info['category_2'].iloc[i]\n",
        "        t2_category.append(t2_cat)\n",
        "\n",
        "  pred_dict = OrderedDict(zip(pred_key, zip(class_names, zip(t1_category, t2_category))))\n",
        "  return json.dumps(pred_dict)"
      ],
      "execution_count": 617,
      "outputs": []
    },
    {
      "cell_type": "code",
      "metadata": {
        "id": "-XbuRf1QS0_E",
        "outputId": "7cee1627-79e1-48c6-d88e-e6c53c0327e4",
        "colab": {
          "base_uri": "https://localhost:8080/",
          "height": 52
        }
      },
      "source": [
        "test_1 = predict_on_new(test_post_1)\n",
        "test_1"
      ],
      "execution_count": 618,
      "outputs": [
        {
          "output_type": "execute_result",
          "data": {
            "application/vnd.google.colaboratory.intrinsic+json": {
              "type": "string"
            },
            "text/plain": [
              "'{\"pred_1\": [\"cats\", [\"animals\", \"cats\"]], \"pred_2\": [\"AskVet\", [\"profession\", \"vetenarian\"]], \"pred_3\": [\"widowers\", [\"sex/relationships\", \"widowers\"]], \"pred_4\": [\"Psychic\", [\"religion/supernatural\", \"ESP\"]], \"pred_5\": [\"Ghosts\", [\"religion/supernatural\", \"ghosts\"]]}'"
            ]
          },
          "metadata": {
            "tags": []
          },
          "execution_count": 618
        }
      ]
    },
    {
      "cell_type": "code",
      "metadata": {
        "id": "mBkmt4CVgu3h",
        "outputId": "85e26d09-0ead-43ef-836d-d49f0518636d",
        "colab": {
          "base_uri": "https://localhost:8080/",
          "height": 52
        }
      },
      "source": [
        "test_2 = predict_on_new(test_post_2)\n",
        "test_2"
      ],
      "execution_count": 619,
      "outputs": [
        {
          "output_type": "execute_result",
          "data": {
            "application/vnd.google.colaboratory.intrinsic+json": {
              "type": "string"
            },
            "text/plain": [
              "'{\"pred_1\": [\"formula1\", [\"sports\", \"formula 1\"]], \"pred_2\": [\"mazda3\", [\"autos\", \"mazda\"]], \"pred_3\": [\"driving\", [\"hobby\", \"driving\"]], \"pred_4\": [\"Mustang\", [\"autos\", \"ford\"]], \"pred_5\": [\"needforspeed\", [\"video_game\", \"need for speed\"]]}'"
            ]
          },
          "metadata": {
            "tags": []
          },
          "execution_count": 619
        }
      ]
    }
  ]
}